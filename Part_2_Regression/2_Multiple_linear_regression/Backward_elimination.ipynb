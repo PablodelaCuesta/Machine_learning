{
 "cells": [
  {
   "cell_type": "markdown",
   "metadata": {},
   "source": [
    "# Automatización del proceso de Backward elimination\n",
    "\n",
    "Vamos a escribir una función que nos ayude con el proceso de selección de aquellas variables que son relevantes para nuestro modelo. Escribiremos en este *notebook* el algoritmo completo, y posteriormente se añadirá a la sección de código de esta sección y a la carpeta de funciones general.\n",
    "\n",
    "Los parámetros que nos ayudarán a eliminar las distintas variables serán los **p-valores** y el $r^2$ ajustado. Se puede escribir otros algoritmos que tengan en cuenta otros parámetros, simplemente habría que añadirlos al algoritmo."
   ]
  },
  {
   "cell_type": "code",
   "execution_count": 1,
   "metadata": {},
   "outputs": [],
   "source": [
    "# bibliotecas\n",
    "import pandas as pd\n",
    "import numpy as np"
   ]
  },
  {
   "cell_type": "code",
   "execution_count": 2,
   "metadata": {},
   "outputs": [],
   "source": [
    "# necesitamos la biblioteca statsmodels\n",
    "import statsmodels.formula.api as sm\n",
    "\n",
    "# Nuestra función\n",
    "def backward_elimination(x, y, sl):\n",
    "    \"\"\"\n",
    "    Función que nos selecciona las variables que mejor describen\n",
    "    nuestro modelo. \n",
    "    \n",
    "    :params\n",
    "    \n",
    "    :x Array\n",
    "    :sl Int\n",
    "    \n",
    "    \"\"\"\n",
    "    # número de variables\n",
    "    numVars = len(x[0])\n",
    "    \n",
    "    # for-loop\n",
    "    for idx in range(0, numVars):\n",
    "        \n",
    "        # Realizamos la regresión\n",
    "        regressor_OLS =sm.OLS(y, x).fit()\n",
    "        \n",
    "        # Valor máximo\n",
    "        maxVar = max(regressor_OLS.pvalues).astype(float)\n",
    "        \n",
    "        # comparamos con nuestro nivel de significancia\n",
    "        if maxVar > sl:\n",
    "            \n",
    "            for j in range(0, numVars - idx):\n",
    "                \n",
    "                if (regressor_OLS.pvalues[j].astype(float) == maxVar):\n",
    "                    x = np.delete(x, j, 1)\n",
    "    \n",
    "    regressor_OLS.summary()\n",
    "    \n",
    "    return x"
   ]
  },
  {
   "cell_type": "code",
   "execution_count": 19,
   "metadata": {},
   "outputs": [],
   "source": [
    "# necesitamos la biblioteca statsmodels\n",
    "import statsmodels.formula.api as sm\n",
    "\n",
    "# Nuestra función\n",
    "def backward_elimination(x, y, sl):\n",
    "    \"\"\"\n",
    "    Función que nos selecciona las variables que mejor describen\n",
    "    nuestro modelo. \n",
    "    \n",
    "    :params\n",
    "    \n",
    "    :x Array\n",
    "    :sl Int\n",
    "    \n",
    "    \"\"\"\n",
    "    # variables\n",
    "    numVars = len(x[0])\n",
    "    maxVar = sl + 1\n",
    "    \n",
    "    # while-loop\n",
    "    while maxVar > sl:\n",
    "        # Realizamos la regresión\n",
    "        regressor_OLS = sm.OLS(y, x).fit()\n",
    "\n",
    "        # Valor máximo\n",
    "        maxVar = max(regressor_OLS.pvalues).astype(float) \n",
    "        \n",
    "        # comparamos con nuestro nivel de significancia\n",
    "        if maxVar > sl:\n",
    "            # Buscamos el índice de maxVar\n",
    "            idx = np.where(regressor_OLS.pvalues == maxVar)\n",
    "\n",
    "            # Eliminamos la variable con pvalor = maxVar\n",
    "            x = np.delete(x, idx, axis = 1)\n",
    "\n",
    "            # Reiniciamos maxVar\n",
    "            maxVar = sl + 1\n",
    "    \n",
    "    regressor_OLS.summary()\n",
    "    \n",
    "    return x"
   ]
  },
  {
   "cell_type": "code",
   "execution_count": 3,
   "metadata": {},
   "outputs": [
    {
     "data": {
      "text/html": [
       "<div>\n",
       "<style scoped>\n",
       "    .dataframe tbody tr th:only-of-type {\n",
       "        vertical-align: middle;\n",
       "    }\n",
       "\n",
       "    .dataframe tbody tr th {\n",
       "        vertical-align: top;\n",
       "    }\n",
       "\n",
       "    .dataframe thead th {\n",
       "        text-align: right;\n",
       "    }\n",
       "</style>\n",
       "<table border=\"1\" class=\"dataframe\">\n",
       "  <thead>\n",
       "    <tr style=\"text-align: right;\">\n",
       "      <th></th>\n",
       "      <th>TV</th>\n",
       "      <th>Radio</th>\n",
       "      <th>Newspaper</th>\n",
       "      <th>Sales</th>\n",
       "    </tr>\n",
       "  </thead>\n",
       "  <tbody>\n",
       "    <tr>\n",
       "      <th>0</th>\n",
       "      <td>230.1</td>\n",
       "      <td>37.8</td>\n",
       "      <td>69.2</td>\n",
       "      <td>22.1</td>\n",
       "    </tr>\n",
       "    <tr>\n",
       "      <th>1</th>\n",
       "      <td>44.5</td>\n",
       "      <td>39.3</td>\n",
       "      <td>45.1</td>\n",
       "      <td>10.4</td>\n",
       "    </tr>\n",
       "    <tr>\n",
       "      <th>2</th>\n",
       "      <td>17.2</td>\n",
       "      <td>45.9</td>\n",
       "      <td>69.3</td>\n",
       "      <td>9.3</td>\n",
       "    </tr>\n",
       "    <tr>\n",
       "      <th>3</th>\n",
       "      <td>151.5</td>\n",
       "      <td>41.3</td>\n",
       "      <td>58.5</td>\n",
       "      <td>18.5</td>\n",
       "    </tr>\n",
       "    <tr>\n",
       "      <th>4</th>\n",
       "      <td>180.8</td>\n",
       "      <td>10.8</td>\n",
       "      <td>58.4</td>\n",
       "      <td>12.9</td>\n",
       "    </tr>\n",
       "  </tbody>\n",
       "</table>\n",
       "</div>"
      ],
      "text/plain": [
       "      TV  Radio  Newspaper  Sales\n",
       "0  230.1   37.8       69.2   22.1\n",
       "1   44.5   39.3       45.1   10.4\n",
       "2   17.2   45.9       69.3    9.3\n",
       "3  151.5   41.3       58.5   18.5\n",
       "4  180.8   10.8       58.4   12.9"
      ]
     },
     "execution_count": 3,
     "metadata": {},
     "output_type": "execute_result"
    }
   ],
   "source": [
    "# datos\n",
    "df = pd.read_csv('../data/Advertising.csv')\n",
    "df.head()"
   ]
  },
  {
   "cell_type": "code",
   "execution_count": 4,
   "metadata": {},
   "outputs": [
    {
     "name": "stdout",
     "output_type": "stream",
     "text": [
      "Shape:  (200, 3) (200,)\n",
      "Variables:  3\n"
     ]
    }
   ],
   "source": [
    "# nivel de significación\n",
    "sl = 0.001\n",
    "\n",
    "# variables\n",
    "X_opt = df.loc[:,['TV', 'Radio', 'Newspaper']].values\n",
    "y = df.loc[:,'Sales'].values\n",
    "\n",
    "print(\"Shape: \", X_opt.shape, y.shape)\n",
    "print(\"Variables: \", len(X_opt[0]))"
   ]
  },
  {
   "cell_type": "code",
   "execution_count": 5,
   "metadata": {},
   "outputs": [
    {
     "name": "stdout",
     "output_type": "stream",
     "text": [
      "Variables:  2\n"
     ]
    }
   ],
   "source": [
    "X_Modeled = backward_elimination(X_opt, y, sl)\n",
    "print(\"Variables: \", len(X_Modeled[0]))"
   ]
  },
  {
   "cell_type": "code",
   "execution_count": 20,
   "metadata": {},
   "outputs": [
    {
     "name": "stdout",
     "output_type": "stream",
     "text": [
      "1.001\n",
      "0.012632664797316919\n",
      "0.012632664797316919\n",
      "Dentro de la condición\n",
      "1.001\n",
      "2.286240729727861e-75\n",
      "Variables:  2\n"
     ]
    }
   ],
   "source": [
    "X_Modeled = backward_elimination(X_opt, y, sl)\n",
    "print(\"Variables: \", len(X_Modeled[0]))"
   ]
  },
  {
   "cell_type": "code",
   "execution_count": null,
   "metadata": {},
   "outputs": [],
   "source": []
  }
 ],
 "metadata": {
  "kernelspec": {
   "display_name": "Python 3",
   "language": "python",
   "name": "python3"
  },
  "language_info": {
   "codemirror_mode": {
    "name": "ipython",
    "version": 3
   },
   "file_extension": ".py",
   "mimetype": "text/x-python",
   "name": "python",
   "nbconvert_exporter": "python",
   "pygments_lexer": "ipython3",
   "version": "3.6.6"
  }
 },
 "nbformat": 4,
 "nbformat_minor": 2
}
