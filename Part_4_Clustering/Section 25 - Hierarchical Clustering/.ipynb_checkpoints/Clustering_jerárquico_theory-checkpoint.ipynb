{
 "cells": [
  {
   "cell_type": "markdown",
   "metadata": {},
   "source": [
    "# Clustering jerárquico\n",
    "\n",
    "Los llamados métodos jerárquicos tienen como objetivo agrupar clusters para crear uno nuevo, o bien separar uno existente. \n",
    "\n",
    "* Aglomerativos: tenemos tantos clusters como puntos. Unimos clusters hasta que todos los puntos quedan englobados en un único cluster\n",
    "* Disociativos: proceso inverso, comenzamos con un único cluster y realizamos divisiones.\n",
    "\n",
    "## Método aglomerativo\n",
    "\n",
    "Iremos aglutinando puntos en base a una cierta distancia.\n",
    "\n",
    "## Métodos de enlace\n",
    "### Enlace simple\n",
    "\n",
    "La distancia entre dos clusters es el mínimo de las distancias entre cualquiera dos puntos del cluster I y el cluster II.\n",
    "\n",
    "Dos cluster con la distancia mínima entre ellos se combinan del siguiente modo:\n",
    "\n",
    "$$\n",
    "d(C_m, C_n) = min(d(x_i, y_j)) \\ \\forall x_i \\in C_m, y_j \\in C_n\n",
    "$$\n",
    "\n",
    "### Enlace completo\n",
    "\n",
    "La distancia entre dos clusters es el **máximo** de las distancias entre cualquiera dos puntos del cluster I y del cluster II.\n",
    "\n",
    "Dos clusters con la distancia mínima entre ellos se combinan del siguiente modo:\n",
    "\n",
    "$$\n",
    "d(C_m, C_n) = max(d(x_i, y_j)) \\ \\forall x_i \\in C_m, y_j \\in C_n\n",
    "$$\n",
    "\n",
    "### Enlace promedio\n",
    "\n",
    "La distancia entre dos clusters es el **promedio** de las distancias entre cualquiera dos puntos del cluster I y del cluster II.\n",
    "\n",
    "Dos clusters con la distancia mínima entre ellos se combinan del siguiente modo:\n",
    "\n",
    "$$\n",
    "d(C_m, C_n) = \\sum \\frac{d(x_i, y_j)}{n} \\ \\forall x_i \\in C_m, y_j \\in C_n\n",
    "$$\n",
    "\n",
    "### Enlace completo\n",
    "\n",
    "La distancia entre dos clusters es el **máximo** de las distancias entre cualquiera dos puntos del cluster I y del cluster II.\n",
    "\n",
    "Dos clusters con la distancia mínima entre ellos se combinan del siguiente modo:\n",
    "\n",
    "$$\n",
    "d(C_m, C_n) = max(d(x_i, y_j)) \\ \\forall x_i \\in C_m, y_j \\in C_n\n",
    "$$\n",
    "\n",
    "### Enlace del centroide\n",
    "\n",
    "La distancia entre dos clusters es el **centroide** ( punto medio) de las distancias entre cualquiera dos puntos del cluster I y del cluster II.\n",
    "\n",
    "Dos clusters con la distancia mínima entre ellos se combinan del siguiente modo:\n",
    "\n",
    "$$\n",
    "d(C_m, C_n) = d(\\widehat{C_m}, \\widehat{C_n})\n",
    "$$\n",
    "\n",
    "### Enlace de Ward\n",
    "\n",
    "Un cluster que minimiza el incremento del error combinado en la suma de los cuadradosde las varianzas se une a un cluster ya existente para formar uno nuevo.\n",
    "\n",
    "Los clusters minimizan la varianza dentro de los puntos del mismo y en el dataset global\n",
    "\n",
    "$$\n",
    "min \\sum_{i=1}^{k}\\sum_{x_i \\in C_i}(x_i - c_j)^2\n",
    "$$\n",
    "\n",
    "El incremento más pequeño del término de error de la varianza prueba que los nuevos elementos unidos a los clúster son más similares a dicho clúster que a otros ya existentes en otros clusters."
   ]
  },
  {
   "cell_type": "markdown",
   "metadata": {},
   "source": [
    "## Clustering jerárquico\n",
    "\n",
    "Método aglomerativo donde cada punto empieza siendo un único cluster y en cada paso los vamos juntando hasta tener un único cluster basado en las similitudes entre observaciones.\n",
    "\n",
    "* Empezamos con cada observación en un cluster\n",
    "* Encontramos la menor distancia en la matriz de distancias y unimos las dos observaciones en un nuevo cluster\n",
    "* Recalculamos las distancias entre los clusters antiguos y el nuevo reción creado con alguno de los métodos de enlace vistos.\n",
    "* Repetimos los pasos hasta que solo quede un cluster con las N observaciones."
   ]
  },
  {
   "cell_type": "code",
   "execution_count": 1,
   "metadata": {},
   "outputs": [],
   "source": [
    "# bibliotecas standars\n",
    "import pandas as pd\n",
    "import numpy as np\n",
    "import seaborn as sns\n",
    "import matplotlib.pyplot as plt\n",
    "\n",
    "# bibliotecas específicas\n",
    "from sklearn import datasets\n",
    "from scipy.cluster.hierarchy import dendrogram, linkage\n",
    "from sklearn.model_selection import train_test_split\n",
    "from scipy.spatial import distance_matrix"
   ]
  },
  {
   "cell_type": "code",
   "execution_count": 2,
   "metadata": {},
   "outputs": [],
   "source": [
    "# datos\n",
    "iris = datasets.load_iris()"
   ]
  },
  {
   "cell_type": "code",
   "execution_count": 3,
   "metadata": {},
   "outputs": [
    {
     "data": {
      "text/plain": [
       "array(['setosa', 'versicolor', 'virginica'], dtype='<U21')"
      ]
     },
     "execution_count": 3,
     "metadata": {},
     "output_type": "execute_result"
    }
   ],
   "source": [
    "# Valores del target\n",
    "target = np.where(iris.target == 0, iris.target_names[0], iris.target)\n",
    "target = np.where(iris.target == 1, iris.target_names[1], target)\n",
    "target = np.where(iris.target == 2, iris.target_names[2], target)\n",
    "np.unique(target)"
   ]
  },
  {
   "cell_type": "code",
   "execution_count": 4,
   "metadata": {},
   "outputs": [
    {
     "data": {
      "text/html": [
       "<div>\n",
       "<style scoped>\n",
       "    .dataframe tbody tr th:only-of-type {\n",
       "        vertical-align: middle;\n",
       "    }\n",
       "\n",
       "    .dataframe tbody tr th {\n",
       "        vertical-align: top;\n",
       "    }\n",
       "\n",
       "    .dataframe thead th {\n",
       "        text-align: right;\n",
       "    }\n",
       "</style>\n",
       "<table border=\"1\" class=\"dataframe\">\n",
       "  <thead>\n",
       "    <tr style=\"text-align: right;\">\n",
       "      <th></th>\n",
       "      <th>sepal length (cm)</th>\n",
       "      <th>sepal width (cm)</th>\n",
       "      <th>petal length (cm)</th>\n",
       "      <th>petal width (cm)</th>\n",
       "      <th>target</th>\n",
       "    </tr>\n",
       "  </thead>\n",
       "  <tbody>\n",
       "    <tr>\n",
       "      <th>0</th>\n",
       "      <td>5.1</td>\n",
       "      <td>3.5</td>\n",
       "      <td>1.4</td>\n",
       "      <td>0.2</td>\n",
       "      <td>setosa</td>\n",
       "    </tr>\n",
       "    <tr>\n",
       "      <th>1</th>\n",
       "      <td>4.9</td>\n",
       "      <td>3.0</td>\n",
       "      <td>1.4</td>\n",
       "      <td>0.2</td>\n",
       "      <td>setosa</td>\n",
       "    </tr>\n",
       "    <tr>\n",
       "      <th>2</th>\n",
       "      <td>4.7</td>\n",
       "      <td>3.2</td>\n",
       "      <td>1.3</td>\n",
       "      <td>0.2</td>\n",
       "      <td>setosa</td>\n",
       "    </tr>\n",
       "    <tr>\n",
       "      <th>3</th>\n",
       "      <td>4.6</td>\n",
       "      <td>3.1</td>\n",
       "      <td>1.5</td>\n",
       "      <td>0.2</td>\n",
       "      <td>setosa</td>\n",
       "    </tr>\n",
       "    <tr>\n",
       "      <th>4</th>\n",
       "      <td>5.0</td>\n",
       "      <td>3.6</td>\n",
       "      <td>1.4</td>\n",
       "      <td>0.2</td>\n",
       "      <td>setosa</td>\n",
       "    </tr>\n",
       "  </tbody>\n",
       "</table>\n",
       "</div>"
      ],
      "text/plain": [
       "  sepal length (cm) sepal width (cm) petal length (cm) petal width (cm)  \\\n",
       "0               5.1              3.5               1.4              0.2   \n",
       "1               4.9              3.0               1.4              0.2   \n",
       "2               4.7              3.2               1.3              0.2   \n",
       "3               4.6              3.1               1.5              0.2   \n",
       "4               5.0              3.6               1.4              0.2   \n",
       "\n",
       "   target  \n",
       "0  setosa  \n",
       "1  setosa  \n",
       "2  setosa  \n",
       "3  setosa  \n",
       "4  setosa  "
      ]
     },
     "execution_count": 4,
     "metadata": {},
     "output_type": "execute_result"
    }
   ],
   "source": [
    "# Dataframe\n",
    "df = pd.DataFrame(data=np.c_[iris.data, target],\n",
    "                  columns=iris.feature_names + ['target'])\n",
    "df.head()"
   ]
  },
  {
   "cell_type": "code",
   "execution_count": 6,
   "metadata": {},
   "outputs": [],
   "source": [
    "# Array de datos\n",
    "X = iris.data\n",
    "y = iris.target"
   ]
  },
  {
   "cell_type": "code",
   "execution_count": null,
   "metadata": {},
   "outputs": [],
   "source": []
  },
  {
   "cell_type": "code",
   "execution_count": null,
   "metadata": {},
   "outputs": [],
   "source": [
    "pd.plotting.scatter_matrix(df, c = y, figsize=[8,8],\n",
    "                           s= 150, marker='D')\n",
    "plt.show()"
   ]
  },
  {
   "cell_type": "markdown",
   "metadata": {},
   "source": [
    "## Clusters"
   ]
  },
  {
   "cell_type": "code",
   "execution_count": 8,
   "metadata": {},
   "outputs": [
    {
     "data": {
      "text/plain": [
       "(149, 4)"
      ]
     },
     "execution_count": 8,
     "metadata": {},
     "output_type": "execute_result"
    }
   ],
   "source": [
    "Z = linkage(df.drop(['target'], axis=1), \"ward\")\n",
    "Z.shape"
   ]
  },
  {
   "cell_type": "code",
   "execution_count": 10,
   "metadata": {},
   "outputs": [
    {
     "data": {
      "image/png": "[encoded data removed]",
      "text/plain": [
       "<Figure size 1008x576 with 1 Axes>"
      ]
     },
     "metadata": {},
     "output_type": "display_data"
    }
   ],
   "source": [
    "plt.figure(figsize=(14, 8))\n",
    "plt.title(\"Dendograma jerárquico para el clustering\")\n",
    "plt.xlabel(\"Sepal lenght\")\n",
    "plt.ylabel(\"Sepal width\")\n",
    "dendrogram(Z, leaf_rotation=90., leaf_font_size=0.8)\n",
    "plt.show()"
   ]
  },
  {
   "cell_type": "code",
   "execution_count": null,
   "metadata": {},
   "outputs": [],
   "source": []
  },
  {
   "cell_type": "code",
   "execution_count": 9,
   "metadata": {},
   "outputs": [],
   "source": [
    "# Split into training and test set\n",
    "X_train, X_test, y_train, y_test = train_test_split(X, y,\n",
    "                                                    test_size = 0.2,\n",
    "                                                    random_state=42)"
   ]
  },
  {
   "cell_type": "code",
   "execution_count": null,
   "metadata": {},
   "outputs": [],
   "source": []
  }
 ],
 "metadata": {
  "kernelspec": {
   "display_name": "Python 3",
   "language": "python",
   "name": "python3"
  },
  "language_info": {
   "codemirror_mode": {
    "name": "ipython",
    "version": 3
   },
   "file_extension": ".py",
   "mimetype": "text/x-python",
   "name": "python",
   "nbconvert_exporter": "python",
   "pygments_lexer": "ipython3",
   "version": "3.6.6"
  }
 },
 "nbformat": 4,
 "nbformat_minor": 2
}
