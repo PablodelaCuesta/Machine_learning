{
 "cells": [
  {
   "cell_type": "markdown",
   "metadata": {},
   "source": [
    "# Judge, Jury and classifier\n",
    "\n",
    "## Introduction\n",
    "\n",
    "In 2002, Andrew Martin, a professor of political science at Washington University in St. Louis, decided to instead predict decisions using a statistical model built from data Together with his colleagues, he decided to test this model against a panel of experts\n",
    "\n",
    "Martin used a method called Decission Trees\n",
    "\n",
    "Why not logistic regression?\n",
    "\n",
    "* Logistic regression models are generally not interpretable\n",
    "* Model coefficients indicate importance and relative effect of variables, but do not give a simple explanation of how decision is made"
   ]
  },
  {
   "cell_type": "markdown",
   "metadata": {},
   "source": [
    "## About the data\n",
    "\n",
    "Cases from 1994 through 2001.\n",
    "\n",
    "In this period, the same nine justices presided SCOTUS:\n",
    "\n",
    "* Breyer, Ginsburg, Kennedy, O’Connor, Rehnquist (Chief Justice), Scalia, Souter, Stevens, Thomas.\n",
    "* Rare data set - longest period of time with the same set of justices in over 180 years.\n",
    "\n",
    "We will focus on predicting **Justice Stevens’ decisions**:\n",
    "\n",
    "* Started out moderate, but became more liberal\n",
    "* Self-proclaimmed conservative"
   ]
  },
  {
   "cell_type": "markdown",
   "metadata": {},
   "source": [
    "##### Libraries"
   ]
  },
  {
   "cell_type": "code",
   "execution_count": 1,
   "metadata": {},
   "outputs": [],
   "source": [
    "# standard\n",
    "import numpy as np\n",
    "import pandas as pd\n",
    "import matplotlib.pyplot as plt\n",
    "import seaborn as sns\n",
    "\n",
    "# style like ggplot\n",
    "sns.set()"
   ]
  },
  {
   "cell_type": "markdown",
   "metadata": {},
   "source": [
    "## The variables\n",
    "\n",
    "In this problem, our **dependent variable** is whether or not Justice Stevens voted to reverse the lower court decision. This is a binary variable, **Reverse**, taking values:\n",
    "\n",
    "* 1 if Justice Stevens decided to **reverse** or overturn the lower court decision.\n",
    "* 0 if Justice Stevens voted to **affirm** or maintain the lower court decision.\n",
    "\n",
    "Our **independent variables** are six different properties of the case.\n",
    "\n",
    "* **Circuit**: Circuit court of origin, 13 courts (1st - 11th , DC, FED).\n",
    "* **Issue**: Issue area of case, 11 areas (e.g., civil rights, federal taxation).\n",
    "* **Petitioner**: type of petitioner, 12 categories (e.g., US, an employer).\n",
    "* **Respondent**: type of respondent 12 categories (same as for Petitioner).\n",
    "* **LowerCourt**: Ideological direction of lower court decision (this was based on the judgment by the authors of the study), 2 categories:\n",
    "    * **conservative**\n",
    "    * **liberal**\n",
    "* **Unconst**: whether petitioner argued that a law/practice was unconstitutional, binary variable."
   ]
  },
  {
   "cell_type": "markdown",
   "metadata": {},
   "source": [
    "## Loading the data"
   ]
  },
  {
   "cell_type": "code",
   "execution_count": 2,
   "metadata": {},
   "outputs": [
    {
     "data": {
      "text/html": [
       "<div>\n",
       "<style scoped>\n",
       "    .dataframe tbody tr th:only-of-type {\n",
       "        vertical-align: middle;\n",
       "    }\n",
       "\n",
       "    .dataframe tbody tr th {\n",
       "        vertical-align: top;\n",
       "    }\n",
       "\n",
       "    .dataframe thead th {\n",
       "        text-align: right;\n",
       "    }\n",
       "</style>\n",
       "<table border=\"1\" class=\"dataframe\">\n",
       "  <thead>\n",
       "    <tr style=\"text-align: right;\">\n",
       "      <th></th>\n",
       "      <th>Docket</th>\n",
       "      <th>Term</th>\n",
       "      <th>Circuit</th>\n",
       "      <th>Issue</th>\n",
       "      <th>Petitioner</th>\n",
       "      <th>Respondent</th>\n",
       "      <th>LowerCourt</th>\n",
       "      <th>Unconst</th>\n",
       "      <th>Reverse</th>\n",
       "    </tr>\n",
       "  </thead>\n",
       "  <tbody>\n",
       "    <tr>\n",
       "      <th>0</th>\n",
       "      <td>93-1408</td>\n",
       "      <td>1994</td>\n",
       "      <td>2nd</td>\n",
       "      <td>EconomicActivity</td>\n",
       "      <td>BUSINESS</td>\n",
       "      <td>BUSINESS</td>\n",
       "      <td>liberal</td>\n",
       "      <td>0</td>\n",
       "      <td>1</td>\n",
       "    </tr>\n",
       "    <tr>\n",
       "      <th>1</th>\n",
       "      <td>93-1577</td>\n",
       "      <td>1994</td>\n",
       "      <td>9th</td>\n",
       "      <td>EconomicActivity</td>\n",
       "      <td>BUSINESS</td>\n",
       "      <td>BUSINESS</td>\n",
       "      <td>liberal</td>\n",
       "      <td>0</td>\n",
       "      <td>1</td>\n",
       "    </tr>\n",
       "    <tr>\n",
       "      <th>2</th>\n",
       "      <td>93-1612</td>\n",
       "      <td>1994</td>\n",
       "      <td>5th</td>\n",
       "      <td>EconomicActivity</td>\n",
       "      <td>BUSINESS</td>\n",
       "      <td>BUSINESS</td>\n",
       "      <td>liberal</td>\n",
       "      <td>0</td>\n",
       "      <td>1</td>\n",
       "    </tr>\n",
       "    <tr>\n",
       "      <th>3</th>\n",
       "      <td>94-623</td>\n",
       "      <td>1994</td>\n",
       "      <td>1st</td>\n",
       "      <td>EconomicActivity</td>\n",
       "      <td>BUSINESS</td>\n",
       "      <td>BUSINESS</td>\n",
       "      <td>conser</td>\n",
       "      <td>0</td>\n",
       "      <td>1</td>\n",
       "    </tr>\n",
       "    <tr>\n",
       "      <th>4</th>\n",
       "      <td>94-1175</td>\n",
       "      <td>1995</td>\n",
       "      <td>7th</td>\n",
       "      <td>JudicialPower</td>\n",
       "      <td>BUSINESS</td>\n",
       "      <td>BUSINESS</td>\n",
       "      <td>conser</td>\n",
       "      <td>0</td>\n",
       "      <td>1</td>\n",
       "    </tr>\n",
       "  </tbody>\n",
       "</table>\n",
       "</div>"
      ],
      "text/plain": [
       "    Docket  Term Circuit             Issue Petitioner Respondent LowerCourt  \\\n",
       "0  93-1408  1994     2nd  EconomicActivity   BUSINESS   BUSINESS    liberal   \n",
       "1  93-1577  1994     9th  EconomicActivity   BUSINESS   BUSINESS    liberal   \n",
       "2  93-1612  1994     5th  EconomicActivity   BUSINESS   BUSINESS    liberal   \n",
       "3   94-623  1994     1st  EconomicActivity   BUSINESS   BUSINESS     conser   \n",
       "4  94-1175  1995     7th     JudicialPower   BUSINESS   BUSINESS     conser   \n",
       "\n",
       "   Unconst  Reverse  \n",
       "0        0        1  \n",
       "1        0        1  \n",
       "2        0        1  \n",
       "3        0        1  \n",
       "4        0        1  "
      ]
     },
     "execution_count": 2,
     "metadata": {},
     "output_type": "execute_result"
    }
   ],
   "source": [
    "# The data\n",
    "data = pd.read_csv('../../../datasets/Decision_trees/stevens.csv')\n",
    "data.head()"
   ]
  },
  {
   "cell_type": "code",
   "execution_count": 3,
   "metadata": {},
   "outputs": [
    {
     "name": "stdout",
     "output_type": "stream",
     "text": [
      "<class 'pandas.core.frame.DataFrame'>\n",
      "RangeIndex: 566 entries, 0 to 565\n",
      "Data columns (total 9 columns):\n",
      "Docket        566 non-null object\n",
      "Term          566 non-null int64\n",
      "Circuit       566 non-null object\n",
      "Issue         566 non-null object\n",
      "Petitioner    566 non-null object\n",
      "Respondent    566 non-null object\n",
      "LowerCourt    566 non-null object\n",
      "Unconst       566 non-null int64\n",
      "Reverse       566 non-null int64\n",
      "dtypes: int64(3), object(6)\n",
      "memory usage: 39.9+ KB\n"
     ]
    }
   ],
   "source": [
    "data.info()"
   ]
  },
  {
   "cell_type": "code",
   "execution_count": 4,
   "metadata": {},
   "outputs": [
    {
     "name": "stdout",
     "output_type": "stream",
     "text": [
      "<class 'pandas.core.frame.DataFrame'>\n",
      "RangeIndex: 566 entries, 0 to 565\n",
      "Data columns (total 9 columns):\n",
      "Docket        566 non-null object\n",
      "Term          566 non-null int64\n",
      "Circuit       566 non-null object\n",
      "Issue         566 non-null object\n",
      "Petitioner    566 non-null object\n",
      "Respondent    566 non-null object\n",
      "LowerCourt    566 non-null object\n",
      "Unconst       566 non-null int64\n",
      "Reverse       566 non-null int64\n",
      "dtypes: int64(3), object(6)\n",
      "memory usage: 39.9+ KB\n"
     ]
    }
   ],
   "source": [
    "data.info()"
   ]
  },
  {
   "cell_type": "markdown",
   "metadata": {},
   "source": [
    "Como podemos ver, la mayoría de las variables son del tipo categórico, por lo tanto, es conveniente realizar un árbol de decisiones. Este nos permitirá una mayor interpretación de los resultados que un modelo logístico."
   ]
  },
  {
   "cell_type": "markdown",
   "metadata": {},
   "source": [
    "## Data wrangling"
   ]
  },
  {
   "cell_type": "markdown",
   "metadata": {},
   "source": [
    "Some of the variables are not interesting for our purpose, namely Docket and Term and we remove them."
   ]
  },
  {
   "cell_type": "code",
   "execution_count": 5,
   "metadata": {},
   "outputs": [
    {
     "data": {
      "text/html": [
       "<div>\n",
       "<style scoped>\n",
       "    .dataframe tbody tr th:only-of-type {\n",
       "        vertical-align: middle;\n",
       "    }\n",
       "\n",
       "    .dataframe tbody tr th {\n",
       "        vertical-align: top;\n",
       "    }\n",
       "\n",
       "    .dataframe thead th {\n",
       "        text-align: right;\n",
       "    }\n",
       "</style>\n",
       "<table border=\"1\" class=\"dataframe\">\n",
       "  <thead>\n",
       "    <tr style=\"text-align: right;\">\n",
       "      <th></th>\n",
       "      <th>Circuit</th>\n",
       "      <th>Issue</th>\n",
       "      <th>Petitioner</th>\n",
       "      <th>Respondent</th>\n",
       "      <th>LowerCourt</th>\n",
       "      <th>Unconst</th>\n",
       "      <th>Reverse</th>\n",
       "    </tr>\n",
       "  </thead>\n",
       "  <tbody>\n",
       "    <tr>\n",
       "      <th>561</th>\n",
       "      <td>6th</td>\n",
       "      <td>CriminalProcedure</td>\n",
       "      <td>OTHER</td>\n",
       "      <td>US</td>\n",
       "      <td>conser</td>\n",
       "      <td>0</td>\n",
       "      <td>0</td>\n",
       "    </tr>\n",
       "    <tr>\n",
       "      <th>562</th>\n",
       "      <td>5th</td>\n",
       "      <td>CriminalProcedure</td>\n",
       "      <td>OTHER</td>\n",
       "      <td>US</td>\n",
       "      <td>liberal</td>\n",
       "      <td>0</td>\n",
       "      <td>1</td>\n",
       "    </tr>\n",
       "    <tr>\n",
       "      <th>563</th>\n",
       "      <td>9th</td>\n",
       "      <td>CriminalProcedure</td>\n",
       "      <td>OTHER</td>\n",
       "      <td>US</td>\n",
       "      <td>conser</td>\n",
       "      <td>1</td>\n",
       "      <td>0</td>\n",
       "    </tr>\n",
       "    <tr>\n",
       "      <th>564</th>\n",
       "      <td>DC</td>\n",
       "      <td>CivilRights</td>\n",
       "      <td>STATE</td>\n",
       "      <td>US</td>\n",
       "      <td>conser</td>\n",
       "      <td>0</td>\n",
       "      <td>0</td>\n",
       "    </tr>\n",
       "    <tr>\n",
       "      <th>565</th>\n",
       "      <td>9th</td>\n",
       "      <td>CivilRights</td>\n",
       "      <td>STATE</td>\n",
       "      <td>US</td>\n",
       "      <td>liberal</td>\n",
       "      <td>0</td>\n",
       "      <td>0</td>\n",
       "    </tr>\n",
       "  </tbody>\n",
       "</table>\n",
       "</div>"
      ],
      "text/plain": [
       "    Circuit              Issue Petitioner Respondent LowerCourt  Unconst  \\\n",
       "561     6th  CriminalProcedure      OTHER         US     conser        0   \n",
       "562     5th  CriminalProcedure      OTHER         US    liberal        0   \n",
       "563     9th  CriminalProcedure      OTHER         US     conser        1   \n",
       "564      DC        CivilRights      STATE         US     conser        0   \n",
       "565     9th        CivilRights      STATE         US    liberal        0   \n",
       "\n",
       "     Reverse  \n",
       "561        0  \n",
       "562        1  \n",
       "563        0  \n",
       "564        0  \n",
       "565        0  "
      ]
     },
     "execution_count": 5,
     "metadata": {},
     "output_type": "execute_result"
    }
   ],
   "source": [
    "data = data.drop(columns=['Docket', 'Term'], axis=1)\n",
    "data.tail()"
   ]
  },
  {
   "cell_type": "markdown",
   "metadata": {},
   "source": [
    "## Logistic regression\n",
    "\n",
    "Para comprobar que estamos en lo cierto en cuanto a la mejor interpretación de un modelo de árbol frente a un modelo logístico, vamos a realizar ambos modelos y comprobar con cual obtenemos mejores resultados."
   ]
  },
  {
   "cell_type": "markdown",
   "metadata": {},
   "source": [
    "##### Libraries for logistic regression"
   ]
  },
  {
   "cell_type": "code",
   "execution_count": null,
   "metadata": {},
   "outputs": [],
   "source": []
  }
 ],
 "metadata": {
  "kernelspec": {
   "display_name": "Python 3",
   "language": "python",
   "name": "python3"
  },
  "language_info": {
   "codemirror_mode": {
    "name": "ipython",
    "version": 3
   },
   "file_extension": ".py",
   "mimetype": "text/x-python",
   "name": "python",
   "nbconvert_exporter": "python",
   "pygments_lexer": "ipython3",
   "version": "3.6.6"
  }
 },
 "nbformat": 4,
 "nbformat_minor": 2
}
