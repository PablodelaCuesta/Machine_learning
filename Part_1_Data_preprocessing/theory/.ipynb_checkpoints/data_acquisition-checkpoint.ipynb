{
 "cells": [
  {
   "cell_type": "markdown",
   "metadata": {},
   "source": [
    "# Adquisición de datos\n",
    "\n"
   ]
  },
  {
   "cell_type": "code",
   "execution_count": 1,
   "metadata": {},
   "outputs": [],
   "source": [
    "# Import libraries\n",
    "import pandas as pd\n",
    "import requests"
   ]
  },
  {
   "cell_type": "code",
   "execution_count": 38,
   "metadata": {},
   "outputs": [],
   "source": [
    "url = \"http://winterolympicsmedals.com/medals.csv\"\n",
    "#data_acquisition_url(url)"
   ]
  },
  {
   "cell_type": "code",
   "execution_count": 36,
   "metadata": {},
   "outputs": [],
   "source": [
    "def data_acquisition_url(url):\n",
    "    \"\"\"\n",
    "    xxx\n",
    "    \"\"\"\n",
    "    \n",
    "    response = requests.get(url)\n",
    "    data = {}\n",
    "    \n",
    "    if response.status_code == 200:\n",
    "        \n",
    "        #contenido de la respuesta\n",
    "        content = response.text\n",
    "        \n",
    "        # Realizamos un split por salto de línea obteniendo una lista con todas las filas\n",
    "        all_rows = content.split(\"\\n\")\n",
    "        \n",
    "        # Cabeceras\n",
    "        header = all_rows[0].split(\",\")\n",
    "        \n",
    "        # introducción de las cabeceras en el diccionario\n",
    "        for head in header:\n",
    "            data[head] = []\n",
    "        \n",
    "        #Eliminamos la primera fila\n",
    "        all_rows.pop(0)\n",
    "        \n",
    "        # for-loop sobre cada fila\n",
    "        for row in all_rows:\n",
    "            \n",
    "            # separamos en columnas\n",
    "            values = row.split(\",\")\n",
    "            \n",
    "            #loop sobre el diccionario\n",
    "            for idx, key in enumerate(data.keys()):\n",
    "                data[key].append(values[idx])\n",
    "        \n",
    "        #Una vez tenemos nuestro diccionario completo pasamos a un dataframe\n",
    "        df = pd.DataFrame(data)\n",
    "        \n",
    "        return df"
   ]
  },
  {
   "cell_type": "code",
   "execution_count": null,
   "metadata": {},
   "outputs": [],
   "source": []
  }
 ],
 "metadata": {
  "kernelspec": {
   "display_name": "Python 3",
   "language": "python",
   "name": "python3"
  },
  "language_info": {
   "codemirror_mode": {
    "name": "ipython",
    "version": 3
   },
   "file_extension": ".py",
   "mimetype": "text/x-python",
   "name": "python",
   "nbconvert_exporter": "python",
   "pygments_lexer": "ipython3",
   "version": "3.6.4"
  }
 },
 "nbformat": 4,
 "nbformat_minor": 2
}
