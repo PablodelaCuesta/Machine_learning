{
 "cells": [
  {
   "cell_type": "markdown",
   "metadata": {},
   "source": [
    "# The Statistical Sommelier\n",
    "## An Introduction to Linear Regression \n",
    "\n",
    "* Large differences in price \n",
    "and quality between years, \n",
    "although wine is produced \n",
    "in a similar way \n",
    "* Meant to be aged, so hard \n",
    "to tell if  wine will be good \n",
    "when it is on the market \n",
    "* Expert tasters predict which \n",
    "ones will be good \n",
    "* Can analytics be used to \n",
    "come up with a different \n",
    "system for judging wine? "
   ]
  },
  {
   "cell_type": "markdown",
   "metadata": {},
   "source": [
    "Building a Model \n",
    " \n",
    "* Ashenfelter used a method called linear regression \n",
    "* Predicts an outcome variable, or dependent variable \n",
    "* Predicts using a set of independent variables \n",
    "* Dependent variable: typical price in 1990-1991 wine auctions (approximates quality) \n",
    "\n",
    "Independent variables: \n",
    "* Age – older wines are more expensive \n",
    "* Weather  \n",
    "* Average Growing Season Temperature \n",
    "* Harvest Rain \n",
    "* Winter Rain "
   ]
  },
  {
   "cell_type": "code",
   "execution_count": 3,
   "metadata": {},
   "outputs": [],
   "source": [
    "# Import Pandas library\n",
    "import pandas as pd\n",
    "import matplotlib.pyplot as plt\n",
    "import seaborn as sns\n",
    "\n",
    "sns.set()"
   ]
  },
  {
   "cell_type": "code",
   "execution_count": null,
   "metadata": {},
   "outputs": [],
   "source": [
    "sn"
   ]
  }
 ],
 "metadata": {
  "kernelspec": {
   "display_name": "Python 3",
   "language": "python",
   "name": "python3"
  },
  "language_info": {
   "codemirror_mode": {
    "name": "ipython",
    "version": 3
   },
   "file_extension": ".py",
   "mimetype": "text/x-python",
   "name": "python",
   "nbconvert_exporter": "python",
   "pygments_lexer": "ipython3",
   "version": "3.7.0"
  }
 },
 "nbformat": 4,
 "nbformat_minor": 2
}
