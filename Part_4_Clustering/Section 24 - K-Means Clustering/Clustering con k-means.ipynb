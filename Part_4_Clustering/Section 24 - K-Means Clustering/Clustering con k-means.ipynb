{
 "cells": [
  {
   "cell_type": "markdown",
   "metadata": {},
   "source": [
    "# K - Means\n",
    "\n",
    "**K-Means** es otro algoritmo no-supervisado para dividir un número de observaciones en determinados grupos.\n",
    "\n",
    "Ahora no vamos a establecer una clustericación jerárquica ni realizar un dendrograma.\n",
    "\n",
    "Vamos a dividir los datos en *k* grupos. El problema que tiene *k-means* es que el número de grupos *k* tiene que ser conocido, e incluso el método necesita evaluar, calcular o definir los baricentros, los centro de gravedad ( centroides ) que forman parte de la etapa inicial del modelo.\n",
    "\n",
    "### Distancia\n",
    "\n",
    "La distancia intracluster para un cluster $C_j$ cualquiera como:\n",
    "\n",
    "$$\n",
    "SS_w (C_j) = \\Sigma_{x \\in C_j} (x - c_j)^2\n",
    "$$\n",
    "\n",
    "También podemos usar la distancia intracluster normalizada para validar la eficacia del modelo.\n",
    "\n",
    "$$\n",
    "S\\tilde{S}_w (C_j) = \\Sigma_{j = 1}^k \\frac{SS_w (C_j)}{SS_T} \\ donde\\ SS_T = \\Sigma_{i = 1}^n(x_i - \\overline{x})^2\n",
    "$$\n",
    "\n",
    "El objetivo de *k-means* es obtener una configuración de centroides del cluster de modo que la suma total de cuadrados siguiente $SS_w$ sea mínima.\n",
    "\n",
    "$$\n",
    "SS_w(k) = \\Sigma_{j = 1}^k SS_w (C_j) = \\Sigma_{j=1}^k\\Sigma_{x_i \\in C_j} (x_i - c_j)^2\n",
    "$$\n",
    "\n",
    "* k : número de clusters\n",
    "* $x_i"
   ]
  },
  {
   "cell_type": "code",
   "execution_count": null,
   "metadata": {},
   "outputs": [],
   "source": []
  }
 ],
 "metadata": {
  "kernelspec": {
   "display_name": "Python 3",
   "language": "python",
   "name": "python3"
  },
  "language_info": {
   "codemirror_mode": {
    "name": "ipython",
    "version": 3
   },
   "file_extension": ".py",
   "mimetype": "text/x-python",
   "name": "python",
   "nbconvert_exporter": "python",
   "pygments_lexer": "ipython3",
   "version": "3.6.6"
  }
 },
 "nbformat": 4,
 "nbformat_minor": 2
}
