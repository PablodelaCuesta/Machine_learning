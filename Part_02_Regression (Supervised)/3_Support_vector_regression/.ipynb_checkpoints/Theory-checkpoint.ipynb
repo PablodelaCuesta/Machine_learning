{
 "cells": [
  {
   "cell_type": "markdown",
   "metadata": {},
   "source": [
    "# Support Vector Regression - SVR\n",
    "\n",
    "**Support vector machine** es una generalización del algoritmo que vamos a ver aquí.\n",
    "\n",
    "Este algoritmo es un algoritmo *supervisado*, que puede ser utilizado tanto para problemas de regresión como para problemas de *clasificación*, donde es mayormente usado. SVR utiliza los mismos principios que el SVM, con sólo unas pocas diferencias menores.\n",
    "\n",
    "La idea es seleccionar un hiperplano de separación que equidiste de los ejemplos más cercanos de cada clase para, de esta forma, conseguir lo que se denomina un margen máximo a cada lado del hiperplano. Además, a la hora de definir el hiperplano, sólo se consideran los ejemplos de entrenamiento que distan del hiperplano la distancia margen. Estos ejemplos reciben el nombre de vectores soport\n",
    "\n",
    "El hiperplano que permite separar las dos clases no suele ser único. La selección de un hiperplano de entre todos los posibles hiperplanos de separación se realizará a partir del concepto de margen, que se define como la distancia mínima entre dicho hiperplano y el ejemplo más cercano a cada clase; se denotará por τ\n",
    "\n",
    "\n",
    "![](img/SVR.png)\n",
    "\n",
    "\n",
    "## Características\n",
    "\n",
    "* SVR realiza la regresión lineal en un espacio dimensional mayor que el normal.\n",
    "* Cada punto (dato) en el conjunto de entrenamiento está representado por su propia dimensión. Cuando evaluamos nuestro kernel entre el conjunto de entrenamiento y el conjunto de test, los resultados que obtenemos son las coordenadas de nuestros puntos (datos) test en dichas dimensiones.\n",
    "* El vector que "
   ]
  }
 ],
 "metadata": {
  "kernelspec": {
   "display_name": "Python 3",
   "language": "python",
   "name": "python3"
  },
  "language_info": {
   "codemirror_mode": {
    "name": "ipython",
    "version": 3
   },
   "file_extension": ".py",
   "mimetype": "text/x-python",
   "name": "python",
   "nbconvert_exporter": "python",
   "pygments_lexer": "ipython3",
   "version": "3.7.0"
  }
 },
 "nbformat": 4,
 "nbformat_minor": 2
}
