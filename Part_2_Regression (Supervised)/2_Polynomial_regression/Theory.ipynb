{
 "cells": [
  {
   "cell_type": "markdown",
   "metadata": {},
   "source": [
    "# Regresión polinomial\n",
    "\n",
    "\n",
    "La regresión *lineal* polinómica es una caso especial de regresión lineal simple. Su expresión matemática es la siguiente:\n",
    "\n",
    "$$\n",
    "y = b_{0} + b_{1}x_{1} + b_{2}x_{1}^{2} + ... + b_{n}x_{1}^{n}\n",
    "$$\n",
    "\n",
    "El hecho de que se siga llamando *lineal* cuando las variables son claramente no-lineales es debido a que no nos fijamos en dichas variables sino en los coeficientes que acompañan a dichas variables. Estos coeficientes son las incognitas que queremos averiguar y estos son lineales respecto a la *salida* o variable *y*.\n",
    "\n"
   ]
  },
  {
   "cell_type": "markdown",
   "metadata": {},
   "source": [
    "Vamos a crear un *dataset* sintético que nos sirva como base para aplicar la teoría anterior.\n",
    "\n",
    "Para que el ajuste no sea perfecto vamos a añadir a nuestros datos sintéticos un poco de ruido."
   ]
  },
  {
   "cell_type": "markdown",
   "metadata": {},
   "source": [
    "## Importando bibliotecas"
   ]
  },
  {
   "cell_type": "code",
   "execution_count": 1,
   "metadata": {},
   "outputs": [],
   "source": [
    "import numpy as np\n",
    "import scipy.stats as ss\n",
    "import matplotlib.pyplot as plt\n",
    "import seaborn as sns\n",
    "\n",
    "# seaborn style\n",
    "sns.set()\n",
    "np.random.seed(42)"
   ]
  },
  {
   "cell_type": "code",
   "execution_count": 2,
   "metadata": {},
   "outputs": [
    {
     "data": {
      "image/png": "[encoded data removed]",
      "text/plain": [
       "<Figure size 432x288 with 1 Axes>"
      ]
     },
     "metadata": {
      "needs_background": "light"
     },
     "output_type": "display_data"
    }
   ],
   "source": [
    "X = 1.387 * np.random.randn(200)\n",
    "res = 2.4 * np.random.randn(200)\n",
    "y = res + 1.13 * np.exp(X)\n",
    "plt.plot(X, y,\n",
    "         marker='.', linestyle='none')\n",
    "plt.xlim([0,10])\n",
    "plt.show()"
   ]
  },
  {
   "cell_type": "markdown",
   "metadata": {},
   "source": [
    "Una vez generados los datos sintéticos vamos a continuar realizando, tanto una regresión lineal simple como una regresión lineal **polinómica** y veamos las diferencias entre ellas.\n",
    "\n",
    "Previamente vamos a separar el *dataset* en conjunto de *entrenamiento* y en conjunto de *testing*"
   ]
  },
  {
   "cell_type": "code",
   "execution_count": 4,
   "metadata": {},
   "outputs": [],
   "source": [
    "from sklearn.model_selection import train_test_split\n",
    "X_train, X_test, y_train, y_test = train_test_split(X, y,\n",
    "                                                    test_size=0.2,\n",
    "                                                    random_state=42)"
   ]
  },
  {
   "cell_type": "markdown",
   "metadata": {},
   "source": [
    "### Regresión lineal simple"
   ]
  },
  {
   "cell_type": "code",
   "execution_count": 14,
   "metadata": {},
   "outputs": [],
   "source": [
    "from sklearn.linear_model import LinearRegression\n",
    "regressor = LinearRegression()\n",
    "\n",
    "# Reshape the data\n",
    "\"\"\"X_train = np.reshape(a=X_train, newshape=(-1, 1))\n",
    "X_test = np.reshape(a=X_test, newshape=(-1, 1))\n",
    "y_train = np.reshape(a=y_train, newshape=(-1, 1))\n",
    "y_test = np.reshape(a=y_test, newshape=(-1, 1))\n",
    "\n",
    "# fitting\n",
    "regressor.fit(X_train, y_train)\n",
    "y_pred = regressor.predict(X_test)\n",
    "\"\"\"\n",
    "\n",
    "# Reshape the data\n",
    "X = np.reshape(X, newshape=(-1,1))\n",
    "y = np.reshape(y, newshape=(-1,1))\n",
    "\n",
    "# fitting\n",
    "regressor.fit(X, y)\n",
    "y_pred = regressor.predict(X)"
   ]
  },
  {
   "cell_type": "code",
   "execution_count": 15,
   "metadata": {},
   "outputs": [
    {
     "data": {
      "image/png": "[encoded data removed]",
      "text/plain": [
       "<Figure size 432x288 with 1 Axes>"
      ]
     },
     "metadata": {
      "needs_background": "light"
     },
     "output_type": "display_data"
    }
   ],
   "source": [
    "# Visualizando la predicción\n",
    "plt.plot(X, y, marker='.', linestyle='none')\n",
    "plt.plot(X, y_pred, marker='.', linestyle='none')\n",
    "plt.show()"
   ]
  },
  {
   "cell_type": "markdown",
   "metadata": {},
   "source": [
    "## Regresión polinómica"
   ]
  },
  {
   "cell_type": "code",
   "execution_count": null,
   "metadata": {},
   "outputs": [],
   "source": [
    "from sklearn.preprocessing import PolynomialFeatures\n",
    "poly_reg = PolynomialFeatures(degrees = 2)\n",
    "\n",
    "# fit\n",
    "poly_reg.fit(X, y)"
   ]
  }
 ],
 "metadata": {
  "kernelspec": {
   "display_name": "Python 3",
   "language": "python",
   "name": "python3"
  },
  "language_info": {
   "codemirror_mode": {
    "name": "ipython",
    "version": 3
   },
   "file_extension": ".py",
   "mimetype": "text/x-python",
   "name": "python",
   "nbconvert_exporter": "python",
   "pygments_lexer": "ipython3",
   "version": "3.7.0"
  }
 },
 "nbformat": 4,
 "nbformat_minor": 2
}
